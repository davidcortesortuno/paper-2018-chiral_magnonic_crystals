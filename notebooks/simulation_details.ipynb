{
 "cells": [
  {
   "cell_type": "code",
   "execution_count": 3,
   "metadata": {
    "collapsed": true
   },
   "outputs": [],
   "source": [
    "%matplotlib inline"
   ]
  },
  {
   "cell_type": "code",
   "execution_count": 4,
   "metadata": {
    "collapsed": false
   },
   "outputs": [],
   "source": [
    "import numpy as np\n",
    "from os import listdir\n",
    "import re\n",
    "import pandas as pd\n",
    "# -----------------------------------------------------------------------------\n",
    "import matplotlib\n",
    "import matplotlib.pyplot as plt\n",
    "from mpl_toolkits.axes_grid1.inset_locator import zoomed_inset_axes\n",
    "from mpl_toolkits.axes_grid1.inset_locator import mark_inset\n",
    "plt.style.use('lato_style.mplstyle')"
   ]
  },
  {
   "cell_type": "markdown",
   "metadata": {},
   "source": [
    "# Load Data"
   ]
  },
  {
   "cell_type": "code",
   "execution_count": 5,
   "metadata": {
    "collapsed": false
   },
   "outputs": [],
   "source": [
    "mu0 = 4 * np.pi * 1e-7\n",
    "Ms = 0.658e6\n",
    "\n",
    "\n",
    "data = pd.read_csv('../sim/InitialMagnetisation_w50_ordered.omf', comment='#',\n",
    "                   header=None, delim_whitespace=True)\n",
    "\n",
    "data_mx0 = data.as_matrix()[:, 3] / Ms\n",
    "data_my0 = data.as_matrix()[:, 4] / Ms\n",
    "data_mz0 = data.as_matrix()[:, 5] / Ms\n",
    "\n",
    "coordinates = data.as_matrix()[:, :3] * 1e9\n",
    "\n",
    "nx = len(np.unique(coordinates[:, 0]))\n",
    "ny = len(np.unique(coordinates[:, 1]))\n",
    "\n",
    "ucoords_x = np.unique(coordinates[:, 0])\n",
    "ucoords_y = np.unique(coordinates[:, 1])\n",
    "\n",
    "centre_x = coordinates[:, 0].min() + (coordinates[:, 0].max()\n",
    "                                      - coordinates[:, 0].min()\n",
    "                                      ) * 0.5"
   ]
  },
  {
   "cell_type": "markdown",
   "metadata": {},
   "source": [
    "# Periodic DMI and excitation region"
   ]
  },
  {
   "cell_type": "code",
   "execution_count": 6,
   "metadata": {
    "collapsed": true
   },
   "outputs": [],
   "source": [
    "def exc_region(x):\n",
    "    xrel = x - centre_x\n",
    "    \n",
    "    if (xrel <= 2) and (xrel >= -2):\n",
    "        return True\n",
    "    else:\n",
    "        return False\n",
    "    \n",
    "exc_region = np.vectorize(exc_region)"
   ]
  },
  {
   "cell_type": "code",
   "execution_count": 7,
   "metadata": {
    "collapsed": false
   },
   "outputs": [],
   "source": [
    "def periodic_dmi_x(p1, p2, x):\n",
    "    xr = x % (p1 + p2)\n",
    "    \n",
    "    if xr < p1:\n",
    "        return 2\n",
    "    elif xr >= p1 and xr <= (p1 + p2):\n",
    "        return 1\n",
    "    else:\n",
    "        return 0\n",
    "\n",
    "# Make this function to work element-wise\n",
    "periodic_dmi_x = np.vectorize(periodic_dmi_x)"
   ]
  },
  {
   "cell_type": "code",
   "execution_count": 8,
   "metadata": {
    "collapsed": false
   },
   "outputs": [],
   "source": [
    "regions = periodic_dmi_x(50, 50, coordinates[:, 0])\n",
    "\n",
    "# Set the excitation region with value 3\n",
    "exc_field = exc_region(coordinates[:, 0])\n",
    "regions[exc_field] = 3"
   ]
  },
  {
   "cell_type": "code",
   "execution_count": 9,
   "metadata": {
    "collapsed": false
   },
   "outputs": [
    {
     "data": {
      "image/png": "[encoded data removed]",
      "text/plain": [
       "<matplotlib.figure.Figure at 0x7f8bc40eb860>"
      ]
     },
     "metadata": {},
     "output_type": "display_data"
    }
   ],
   "source": [
    "# Define a custom colormap\n",
    "cmap = plt.cm.Set2\n",
    "# Extract colors from the map\n",
    "cmaplist = [cmap(0), cmap(1), (1., 0., 0.)]\n",
    "# create the new map\n",
    "cmap = matplotlib.colors.ListedColormap(cmaplist, 'Custom cmap', 3)\n",
    "\n",
    "fig = plt.figure(figsize=(20, 2))\n",
    "plt.imshow(regions.reshape(-1, nx), cmap=cmap,\n",
    "           extent=[ucoords_x.min(), ucoords_x.max(), ucoords_y.min(), ucoords_y.max()]\n",
    "           )\n",
    "plt.yticks([0, 100, 200])\n",
    "\n",
    "# create a second axes for the colorbar\n",
    "ax2 = fig.add_axes([0.125, -0.1, 0.2, 0.1])\n",
    "cb = matplotlib.colorbar.ColorbarBase(ax2, cmap=cmap, spacing='proportional', \n",
    "                                      ticks=[1.5, 2.5, 3.5], orientation='horizontal',\n",
    "                                      boundaries=np.linspace(1, 4, 4))\n",
    "cb.set_ticklabels(['no-DMI', 'DMI', 'Excitation'])\n",
    "\n",
    "# plt.savefig('simulation_system_a100nm_w50nm.pdf', bbox_inches='tight')\n",
    "plt.savefig('simulation_system_a100nm_w50nm.png', bbox_inches='tight')"
   ]
  },
  {
   "cell_type": "markdown",
   "metadata": {},
   "source": [
    "# Exponential damping"
   ]
  },
  {
   "cell_type": "code",
   "execution_count": 10,
   "metadata": {
    "collapsed": true
   },
   "outputs": [],
   "source": [
    "def exp_damping(alpha, xmin, xmax, width, x):\n",
    "    xa = xmin + width\n",
    "    xb = xmax - width\n",
    "    \n",
    "    if x <= xa:\n",
    "        return np.exp((xmin - x) * np.log(alpha) / (xmin - xa))\n",
    "    elif x >= xb:\n",
    "        return np.exp((xmax - x) * np.log(alpha) / (xmax - xb))\n",
    "    else:\n",
    "        return alpha\n",
    "    \n",
    "exp_damping = np.vectorize(exp_damping)"
   ]
  },
  {
   "cell_type": "code",
   "execution_count": 12,
   "metadata": {
    "collapsed": false
   },
   "outputs": [
    {
     "data": {
      "image/png": "[encoded data removed]",
      "text/plain": [
       "<matplotlib.figure.Figure at 0x7f8bbffd0b38>"
      ]
     },
     "metadata": {},
     "output_type": "display_data"
    }
   ],
   "source": [
    "damping_y = exp_damping(0.01, 1, 199, 20, ucoords_y)\n",
    "\n",
    "plt.figure(figsize=(8, 8/1.6))\n",
    "plt.plot(ucoords_y, damping_y, lw=3)\n",
    "plt.ylim([0, 1])\n",
    "\n",
    "plt.ylabel(r'$\\alpha$')\n",
    "plt.xlabel(r'$y\\,\\,\\mathrm{(nm)}$')\n",
    "ax = plt.gca()\n",
    "\n",
    "axins = zoomed_inset_axes(ax, 10, loc=9) # zoom-factor: 5, location: \n",
    "axins.plot(ucoords_y, damping_y)\n",
    "x1, x2, y1, y2 = 15, 25, 0, 0.03 # specify the limits\n",
    "axins.set_xlim(x1, x2) # apply the x-limits\n",
    "axins.set_ylim(y1, y2) # apply the y-limits\n",
    "plt.yticks([0.01])\n",
    "plt.grid(axis='y')\n",
    "mark_inset(ax, axins, loc1=2, loc2=4, fc=\"none\", ec=\"0.5\")\n",
    "\n",
    "# plt.savefig('exponential_damping_along_width.pdf', bbox_inches='tight')\n",
    "plt.savefig('exponential_damping_along_width.png', bbox_inches='tight')"
   ]
  }
 ],
 "metadata": {
  "anaconda-cloud": {},
  "hide_input": false,
  "kernelspec": {
   "display_name": "Python [default]",
   "language": "python",
   "name": "python3"
  },
  "language_info": {
   "codemirror_mode": {
    "name": "ipython",
    "version": 3
   },
   "file_extension": ".py",
   "mimetype": "text/x-python",
   "name": "python",
   "nbconvert_exporter": "python",
   "pygments_lexer": "ipython3",
   "version": "3.5.2"
  }
 },
 "nbformat": 4,
 "nbformat_minor": 2
}
